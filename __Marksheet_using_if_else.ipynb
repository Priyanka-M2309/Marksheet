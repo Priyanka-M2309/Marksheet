{
 "cells": [
  {
   "cell_type": "code",
   "execution_count": 1,
   "id": "ded31f0e-f0dd-4d59-8a3d-18d7616fb357",
   "metadata": {},
   "outputs": [
    {
     "name": "stdin",
     "output_type": "stream",
     "text": [
      "Enter Name of the Candidate: Saloni Sharma\n",
      "Enter Regisration Number: 234055542\n",
      "Enter Enrollment Number: 12324248994\n",
      "Enter Date: 2013\n"
     ]
    },
    {
     "name": "stdout",
     "output_type": "stream",
     "text": [
      "Please enter the marks :-\n"
     ]
    },
    {
     "name": "stdin",
     "output_type": "stream",
     "text": [
      "Enter Marks of Fire Science and Technology: 34\n",
      "Enter Marks of Fire Prevention and Investigation: 45\n",
      "Enter Marks of Fire Protection and Survey: 56\n",
      "Enter Marks of Industrial Safety Management: 55\n",
      "Enter Marks of Practical I: 87\n",
      "Enter Marks of Practical II: 79\n"
     ]
    },
    {
     "name": "stdout",
     "output_type": "stream",
     "text": [
      "\n",
      "\n",
      "___________________________________________________________________________________________________________________________________________________\n",
      "\n",
      "Sr. No. 000000000\n",
      "\n",
      "\t\t\t\t\tAll India Institute of Fire Technology and Safety Management\n",
      "\n",
      "\n",
      "\n",
      "\t\t  Associated with Technical and Paramedical Education Council An Autonomous Institution Recognized by Goverment of India\n",
      "\n",
      "\t\t\t\t\t\t\t -- Annual Statement of Marks --\n",
      "\n",
      "___________________________________________________________________________________________________________________________________________________\n",
      "\n",
      "Name of Candidate\t\t\t\t\t\tCourse name with Code\n",
      "Saloni Sharma \t\t\t\t\t\tDiploma in Fire & Safety Management (DFS012)\n",
      "___________________________________________________________________________________________________________________________________________________\n",
      "\n",
      "Registration Number\t\t\t\t\t\tEnrollment Number\n",
      "234055542 \t\t\t\t\t\t\t 12324248994\n",
      "___________________________________________________________________________________________________________________________________________________\n",
      "\n",
      "Subject Code\t\tSubject Name\t\t\t\t\tMax Marks\tTheory\t\tPractical\tTotal Marks\n",
      "DFS01\t\t\tFire Science and Technology FTSM\t\t100\t\t 34 \t\tXX\t\t 34\n",
      "DFS02\t\t\tFire Prevention and Investigation\t\t100\t\t 45 \t\tXX\t\t 45\n",
      "DFS03\t\t\tFire Protection and Survey\t\t\t100\t\t 56 \t\tXX\t\t 56\n",
      "DFS04\t\t\tIndustrial Safety Management \t\t\t100\t\t 55 \t\tXX\t\t 55\n",
      "DFS05\t\t\tPractical I \t\t\t\t\t100\t\t XX\t\t 87 \t\t 87\n",
      "DFS06\t\t\tPractical II\t\t\t\t\t100\t\t XX\t\t 79 \t\t 79\n",
      "___________________________________________________________________________________________________________________________________________________\n",
      "\n",
      "Grand Total:\t 356\n",
      "___________________________________________________________________________________________________________________________________________________\n",
      "\n",
      "Month and Year of Examination\t\t\t\tNo. of Subject Offered\t\t\t\tResult\t\t\t\tPercentage\n",
      "May 2016\t\t\t\t\t\tT4+P2=6\t\t\t\t\t\tPASS\t\t\t\t 59 %\n",
      "___________________________________________________________________________________________________________________________________________________\n",
      "\n",
      "\n",
      "Date:\t 2013 \t\t\t\t\t\t\t\t\t\t\t\tSignature of HOD\n",
      "___________________________________________________________________________________________________________________________________________________\n",
      "\n"
     ]
    }
   ],
   "source": [
    "# Marksheet\n",
    "name = input(\"Enter Name of the Candidate:\")\n",
    "regname = int(input(\"Enter Regisration Number:\"))\n",
    "enroll = int(input(\"Enter Enrollment Number:\"))\n",
    "mdate = input(\"Enter Date:\")\n",
    "print(\"Please enter the marks :-\")\n",
    "f01 = int(input(\"Enter Marks of Fire Science and Technology:\"))\n",
    "f02 = int(input(\"Enter Marks of Fire Prevention and Investigation:\"))\n",
    "f03 = int(input(\"Enter Marks of Fire Protection and Survey:\"))\n",
    "f04 = int(input(\"Enter Marks of Industrial Safety Management:\"))\n",
    "p01 = int(input(\"Enter Marks of Practical I:\"))\n",
    "p02 = int(input(\"Enter Marks of Practical II:\"))\n",
    "total = f01+f02+f03+f04+p01+p02\n",
    "percentage = (f01+f02+f03+f04+p01+p02)/600*100\n",
    "print(\"\\n\\n___________________________________________________________________________________________________________________________________________________\\n\")\n",
    "print(\"Sr. No. 000000000\\n\")\n",
    "print(\"\\t\\t\\t\\t\\tAll India Institute of Fire Technology and Safety Management\")\n",
    "print(\"\\n\\n\")\n",
    "print(\"\\t\\t  Associated with Technical and Paramedical Education Council An Autonomous Institution Recognized by Goverment of India\")\n",
    "print(\"\\n\\t\\t\\t\\t\\t\\t\\t -- Annual Statement of Marks --\\n\")\n",
    "print(\"___________________________________________________________________________________________________________________________________________________\\n\")\n",
    "print(\"Name of Candidate\\t\\t\\t\\t\\t\\tCourse name with Code\")\n",
    "print(name ,\"\\t\\t\\t\\t\\t\\tDiploma in Fire & Safety Management (DFS012)\")\n",
    "print(\"___________________________________________________________________________________________________________________________________________________\\n\")\n",
    "print(\"Registration Number\\t\\t\\t\\t\\t\\tEnrollment Number\")\n",
    "print(regname ,\"\\t\\t\\t\\t\\t\\t\\t\",enroll)\n",
    "print(\"___________________________________________________________________________________________________________________________________________________\\n\")\n",
    "print(\"Subject Code\\t\\tSubject Name\\t\\t\\t\\t\\tMax Marks\\tTheory\\t\\tPractical\\tTotal Marks\")\n",
    "print(\"DFS01\\t\\t\\tFire Science and Technology FTSM\\t\\t100\\t\\t\",f01,\"\\t\\tXX\\t\\t\",f01)\n",
    "print(\"DFS02\\t\\t\\tFire Prevention and Investigation\\t\\t100\\t\\t\",f02,\"\\t\\tXX\\t\\t\",f02)\n",
    "print(\"DFS03\\t\\t\\tFire Protection and Survey\\t\\t\\t100\\t\\t\",f03,\"\\t\\tXX\\t\\t\",f03)\n",
    "print(\"DFS04\\t\\t\\tIndustrial Safety Management \\t\\t\\t100\\t\\t\",f04,\"\\t\\tXX\\t\\t\",f04)\n",
    "print(\"DFS05\\t\\t\\tPractical I \\t\\t\\t\\t\\t100\\t\\t XX\\t\\t\",p01,\"\\t\\t\",p01)\n",
    "print(\"DFS06\\t\\t\\tPractical II\\t\\t\\t\\t\\t100\\t\\t XX\\t\\t\",p02,\"\\t\\t\",p02)\n",
    "print(\"___________________________________________________________________________________________________________________________________________________\\n\")\n",
    "print(\"Grand Total:\\t\",total)\n",
    "print(\"___________________________________________________________________________________________________________________________________________________\\n\")\n",
    "print(\"Month and Year of Examination\\t\\t\\t\\tNo. of Subject Offered\\t\\t\\t\\tResult\\t\\t\\t\\tPercentage\")\n",
    "if(percentage>= 45):\n",
    "    print(\"May 2016\\t\\t\\t\\t\\t\\tT4+P2=6\\t\\t\\t\\t\\t\\tPASS\\t\\t\\t\\t\",round(percentage),\"%\")\n",
    "else:\n",
    "    print(\"May 2016\\t\\t\\t\\t\\t\\tT4+P2=6\\t\\t\\t\\t\\t\\tFAIL\\t\\t\\t\\t\",round(percentage),\"%\")    \n",
    "print(\"___________________________________________________________________________________________________________________________________________________\\n\")\n",
    "print(\"\\nDate:\\t\",mdate,\"\\t\\t\\t\\t\\t\\t\\t\\t\\t\\t\\t\\tSignature of HOD\")\n",
    "print(\"___________________________________________________________________________________________________________________________________________________\\n\")"
   ]
  },
  {
   "cell_type": "code",
   "execution_count": null,
   "id": "ea5560d8-d003-46e2-9881-2cb5837311e5",
   "metadata": {},
   "outputs": [],
   "source": []
  }
 ],
 "metadata": {
  "kernelspec": {
   "display_name": "Python 3 (ipykernel)",
   "language": "python",
   "name": "python3"
  },
  "language_info": {
   "codemirror_mode": {
    "name": "ipython",
    "version": 3
   },
   "file_extension": ".py",
   "mimetype": "text/x-python",
   "name": "python",
   "nbconvert_exporter": "python",
   "pygments_lexer": "ipython3",
   "version": "3.11.4"
  }
 },
 "nbformat": 4,
 "nbformat_minor": 5
}
